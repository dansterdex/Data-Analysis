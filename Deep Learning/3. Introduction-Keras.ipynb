{
 "cells": [
  {
   "cell_type": "markdown",
   "metadata": {},
   "source": [
    "# Import the necessary libraries"
   ]
  },
  {
   "cell_type": "code",
   "execution_count": 1,
   "metadata": {},
   "outputs": [],
   "source": [
    "import numpy as np"
   ]
  },
  {
   "cell_type": "code",
   "execution_count": 2,
   "metadata": {},
   "outputs": [
    {
     "name": "stderr",
     "output_type": "stream",
     "text": [
      "Using TensorFlow backend.\n",
      "c:\\users\\lenovo\\appdata\\local\\programs\\python\\python36\\lib\\site-packages\\tensorflow\\python\\framework\\dtypes.py:516: FutureWarning: Passing (type, 1) or '1type' as a synonym of type is deprecated; in a future version of numpy, it will be understood as (type, (1,)) / '(1,)type'.\n",
      "  _np_qint8 = np.dtype([(\"qint8\", np.int8, 1)])\n",
      "c:\\users\\lenovo\\appdata\\local\\programs\\python\\python36\\lib\\site-packages\\tensorflow\\python\\framework\\dtypes.py:517: FutureWarning: Passing (type, 1) or '1type' as a synonym of type is deprecated; in a future version of numpy, it will be understood as (type, (1,)) / '(1,)type'.\n",
      "  _np_quint8 = np.dtype([(\"quint8\", np.uint8, 1)])\n",
      "c:\\users\\lenovo\\appdata\\local\\programs\\python\\python36\\lib\\site-packages\\tensorflow\\python\\framework\\dtypes.py:518: FutureWarning: Passing (type, 1) or '1type' as a synonym of type is deprecated; in a future version of numpy, it will be understood as (type, (1,)) / '(1,)type'.\n",
      "  _np_qint16 = np.dtype([(\"qint16\", np.int16, 1)])\n",
      "c:\\users\\lenovo\\appdata\\local\\programs\\python\\python36\\lib\\site-packages\\tensorflow\\python\\framework\\dtypes.py:519: FutureWarning: Passing (type, 1) or '1type' as a synonym of type is deprecated; in a future version of numpy, it will be understood as (type, (1,)) / '(1,)type'.\n",
      "  _np_quint16 = np.dtype([(\"quint16\", np.uint16, 1)])\n",
      "c:\\users\\lenovo\\appdata\\local\\programs\\python\\python36\\lib\\site-packages\\tensorflow\\python\\framework\\dtypes.py:520: FutureWarning: Passing (type, 1) or '1type' as a synonym of type is deprecated; in a future version of numpy, it will be understood as (type, (1,)) / '(1,)type'.\n",
      "  _np_qint32 = np.dtype([(\"qint32\", np.int32, 1)])\n",
      "c:\\users\\lenovo\\appdata\\local\\programs\\python\\python36\\lib\\site-packages\\tensorflow\\python\\framework\\dtypes.py:525: FutureWarning: Passing (type, 1) or '1type' as a synonym of type is deprecated; in a future version of numpy, it will be understood as (type, (1,)) / '(1,)type'.\n",
      "  np_resource = np.dtype([(\"resource\", np.ubyte, 1)])\n",
      "c:\\users\\lenovo\\appdata\\local\\programs\\python\\python36\\lib\\site-packages\\tensorboard\\compat\\tensorflow_stub\\dtypes.py:541: FutureWarning: Passing (type, 1) or '1type' as a synonym of type is deprecated; in a future version of numpy, it will be understood as (type, (1,)) / '(1,)type'.\n",
      "  _np_qint8 = np.dtype([(\"qint8\", np.int8, 1)])\n",
      "c:\\users\\lenovo\\appdata\\local\\programs\\python\\python36\\lib\\site-packages\\tensorboard\\compat\\tensorflow_stub\\dtypes.py:542: FutureWarning: Passing (type, 1) or '1type' as a synonym of type is deprecated; in a future version of numpy, it will be understood as (type, (1,)) / '(1,)type'.\n",
      "  _np_quint8 = np.dtype([(\"quint8\", np.uint8, 1)])\n",
      "c:\\users\\lenovo\\appdata\\local\\programs\\python\\python36\\lib\\site-packages\\tensorboard\\compat\\tensorflow_stub\\dtypes.py:543: FutureWarning: Passing (type, 1) or '1type' as a synonym of type is deprecated; in a future version of numpy, it will be understood as (type, (1,)) / '(1,)type'.\n",
      "  _np_qint16 = np.dtype([(\"qint16\", np.int16, 1)])\n",
      "c:\\users\\lenovo\\appdata\\local\\programs\\python\\python36\\lib\\site-packages\\tensorboard\\compat\\tensorflow_stub\\dtypes.py:544: FutureWarning: Passing (type, 1) or '1type' as a synonym of type is deprecated; in a future version of numpy, it will be understood as (type, (1,)) / '(1,)type'.\n",
      "  _np_quint16 = np.dtype([(\"quint16\", np.uint16, 1)])\n",
      "c:\\users\\lenovo\\appdata\\local\\programs\\python\\python36\\lib\\site-packages\\tensorboard\\compat\\tensorflow_stub\\dtypes.py:545: FutureWarning: Passing (type, 1) or '1type' as a synonym of type is deprecated; in a future version of numpy, it will be understood as (type, (1,)) / '(1,)type'.\n",
      "  _np_qint32 = np.dtype([(\"qint32\", np.int32, 1)])\n",
      "c:\\users\\lenovo\\appdata\\local\\programs\\python\\python36\\lib\\site-packages\\tensorboard\\compat\\tensorflow_stub\\dtypes.py:550: FutureWarning: Passing (type, 1) or '1type' as a synonym of type is deprecated; in a future version of numpy, it will be understood as (type, (1,)) / '(1,)type'.\n",
      "  np_resource = np.dtype([(\"resource\", np.ubyte, 1)])\n"
     ]
    }
   ],
   "source": [
    "from keras.models import Sequential\n",
    "from keras.layers import Dense"
   ]
  },
  {
   "cell_type": "code",
   "execution_count": 3,
   "metadata": {},
   "outputs": [],
   "source": [
    "X = np.array([[1, 0, 1], [1, 0, 0], [0, 1, 1], [0, 0, 0], [0, 0, 1], [1, 1, 0]])\n",
    "Y = [1, 1, 0, 0, 0, 1]"
   ]
  },
  {
   "cell_type": "markdown",
   "metadata": {},
   "source": [
    "## Create a Neural Network with only 1 layer and 'TanH' as Activation Function"
   ]
  },
  {
   "cell_type": "code",
   "execution_count": 4,
   "metadata": {},
   "outputs": [
    {
     "name": "stderr",
     "output_type": "stream",
     "text": [
      "WARNING: Logging before flag parsing goes to stderr.\n",
      "W0812 22:43:50.540224 10044 deprecation_wrapper.py:119] From c:\\users\\lenovo\\appdata\\local\\programs\\python\\python36\\lib\\site-packages\\keras\\backend\\tensorflow_backend.py:74: The name tf.get_default_graph is deprecated. Please use tf.compat.v1.get_default_graph instead.\n",
      "\n"
     ]
    }
   ],
   "source": [
    "classifier = Sequential()"
   ]
  },
  {
   "cell_type": "code",
   "execution_count": 5,
   "metadata": {},
   "outputs": [
    {
     "name": "stderr",
     "output_type": "stream",
     "text": [
      "W0812 22:43:50.706362 10044 deprecation_wrapper.py:119] From c:\\users\\lenovo\\appdata\\local\\programs\\python\\python36\\lib\\site-packages\\keras\\backend\\tensorflow_backend.py:517: The name tf.placeholder is deprecated. Please use tf.compat.v1.placeholder instead.\n",
      "\n",
      "W0812 22:43:50.722721 10044 deprecation_wrapper.py:119] From c:\\users\\lenovo\\appdata\\local\\programs\\python\\python36\\lib\\site-packages\\keras\\backend\\tensorflow_backend.py:4138: The name tf.random_uniform is deprecated. Please use tf.random.uniform instead.\n",
      "\n",
      "W0812 22:43:50.834302 10044 deprecation_wrapper.py:119] From c:\\users\\lenovo\\appdata\\local\\programs\\python\\python36\\lib\\site-packages\\keras\\optimizers.py:790: The name tf.train.Optimizer is deprecated. Please use tf.compat.v1.train.Optimizer instead.\n",
      "\n",
      "W0812 22:43:51.025905 10044 deprecation_wrapper.py:119] From c:\\users\\lenovo\\appdata\\local\\programs\\python\\python36\\lib\\site-packages\\keras\\backend\\tensorflow_backend.py:3376: The name tf.log is deprecated. Please use tf.math.log instead.\n",
      "\n",
      "W0812 22:43:51.081942 10044 deprecation.py:323] From c:\\users\\lenovo\\appdata\\local\\programs\\python\\python36\\lib\\site-packages\\tensorflow\\python\\ops\\nn_impl.py:180: add_dispatch_support.<locals>.wrapper (from tensorflow.python.ops.array_ops) is deprecated and will be removed in a future version.\n",
      "Instructions for updating:\n",
      "Use tf.where in 2.0, which has the same broadcast rule as np.where\n"
     ]
    }
   ],
   "source": [
    "classifier.add(Dense(units=1, input_dim=3, activation='tanh'))\n",
    "classifier.compile(optimizer='adam', loss='binary_crossentropy', metrics=['accuracy'])"
   ]
  },
  {
   "cell_type": "code",
   "execution_count": 6,
   "metadata": {},
   "outputs": [
    {
     "name": "stderr",
     "output_type": "stream",
     "text": [
      "W0812 22:43:52.399157 10044 deprecation_wrapper.py:119] From c:\\users\\lenovo\\appdata\\local\\programs\\python\\python36\\lib\\site-packages\\keras\\backend\\tensorflow_backend.py:986: The name tf.assign_add is deprecated. Please use tf.compat.v1.assign_add instead.\n",
      "\n"
     ]
    },
    {
     "name": "stdout",
     "output_type": "stream",
     "text": [
      "Epoch 1/80\n",
      "6/6 [==============================] - 1s 114ms/step - loss: 0.2574 - acc: 0.8333\n",
      "Epoch 2/80\n",
      "6/6 [==============================] - 0s 668us/step - loss: 0.2567 - acc: 0.8333\n",
      "Epoch 3/80\n",
      "6/6 [==============================] - 0s 1ms/step - loss: 0.2562 - acc: 0.8333\n",
      "Epoch 4/80\n",
      "6/6 [==============================] - 0s 2ms/step - loss: 0.2556 - acc: 0.8333\n",
      "Epoch 5/80\n",
      "6/6 [==============================] - 0s 666us/step - loss: 0.2550 - acc: 0.8333\n",
      "Epoch 6/80\n",
      "6/6 [==============================] - 0s 665us/step - loss: 0.2544 - acc: 0.8333\n",
      "Epoch 7/80\n",
      "6/6 [==============================] - 0s 666us/step - loss: 0.2538 - acc: 0.8333\n",
      "Epoch 8/80\n",
      "6/6 [==============================] - 0s 1ms/step - loss: 0.2531 - acc: 0.8333\n",
      "Epoch 9/80\n",
      "6/6 [==============================] - 0s 1ms/step - loss: 0.2525 - acc: 0.8333\n",
      "Epoch 10/80\n",
      "6/6 [==============================] - 0s 667us/step - loss: 0.2519 - acc: 0.8333\n",
      "Epoch 11/80\n",
      "6/6 [==============================] - 0s 667us/step - loss: 0.2513 - acc: 0.8333\n",
      "Epoch 12/80\n",
      "6/6 [==============================] - 0s 667us/step - loss: 0.2507 - acc: 0.8333\n",
      "Epoch 13/80\n",
      "6/6 [==============================] - 0s 667us/step - loss: 0.2501 - acc: 0.8333\n",
      "Epoch 14/80\n",
      "6/6 [==============================] - 0s 2ms/step - loss: 0.2495 - acc: 0.8333\n",
      "Epoch 15/80\n",
      "6/6 [==============================] - 0s 591us/step - loss: 0.2489 - acc: 0.8333\n",
      "Epoch 16/80\n",
      "6/6 [==============================] - 0s 667us/step - loss: 0.2483 - acc: 0.8333\n",
      "Epoch 17/80\n",
      "6/6 [==============================] - 0s 667us/step - loss: 0.2477 - acc: 0.8333\n",
      "Epoch 18/80\n",
      "6/6 [==============================] - 0s 1ms/step - loss: 0.2471 - acc: 0.8333\n",
      "Epoch 19/80\n",
      "6/6 [==============================] - 0s 516us/step - loss: 0.2465 - acc: 0.8333\n",
      "Epoch 20/80\n",
      "6/6 [==============================] - 0s 666us/step - loss: 0.2459 - acc: 0.8333\n",
      "Epoch 21/80\n",
      "6/6 [==============================] - 0s 852us/step - loss: 0.2453 - acc: 0.8333\n",
      "Epoch 22/80\n",
      "6/6 [==============================] - 0s 661us/step - loss: 0.2447 - acc: 0.8333\n",
      "Epoch 23/80\n",
      "6/6 [==============================] - 0s 667us/step - loss: 0.2441 - acc: 0.8333\n",
      "Epoch 24/80\n",
      "6/6 [==============================] - 0s 667us/step - loss: 0.2435 - acc: 0.8333\n",
      "Epoch 25/80\n",
      "6/6 [==============================] - 0s 855us/step - loss: 0.2429 - acc: 0.8333\n",
      "Epoch 26/80\n",
      "6/6 [==============================] - 0s 940us/step - loss: 0.2423 - acc: 0.8333\n",
      "Epoch 27/80\n",
      "6/6 [==============================] - 0s 2ms/step - loss: 0.2417 - acc: 0.8333\n",
      "Epoch 28/80\n",
      "6/6 [==============================] - 0s 939us/step - loss: 0.2411 - acc: 0.8333\n",
      "Epoch 29/80\n",
      "6/6 [==============================] - 0s 666us/step - loss: 0.2405 - acc: 0.8333\n",
      "Epoch 30/80\n",
      "6/6 [==============================] - 0s 1ms/step - loss: 0.2399 - acc: 0.8333\n",
      "Epoch 31/80\n",
      "6/6 [==============================] - 0s 1ms/step - loss: 0.2393 - acc: 0.8333\n",
      "Epoch 32/80\n",
      "6/6 [==============================] - 0s 667us/step - loss: 0.2388 - acc: 0.8333\n",
      "Epoch 33/80\n",
      "6/6 [==============================] - 0s 661us/step - loss: 0.2382 - acc: 0.8333\n",
      "Epoch 34/80\n",
      "6/6 [==============================] - 0s 762us/step - loss: 0.2376 - acc: 0.8333\n",
      "Epoch 35/80\n",
      "6/6 [==============================] - 0s 1ms/step - loss: 0.2370 - acc: 0.8333\n",
      "Epoch 36/80\n",
      "6/6 [==============================] - 0s 1ms/step - loss: 0.2364 - acc: 1.0000\n",
      "Epoch 37/80\n",
      "6/6 [==============================] - 0s 938us/step - loss: 0.2358 - acc: 1.0000\n",
      "Epoch 38/80\n",
      "6/6 [==============================] - 0s 661us/step - loss: 0.2353 - acc: 1.0000\n",
      "Epoch 39/80\n",
      "6/6 [==============================] - 0s 1ms/step - loss: 0.2347 - acc: 1.0000\n",
      "Epoch 40/80\n",
      "6/6 [==============================] - 0s 697us/step - loss: 0.2341 - acc: 1.0000\n",
      "Epoch 41/80\n",
      "6/6 [==============================] - 0s 659us/step - loss: 0.2335 - acc: 1.0000\n",
      "Epoch 42/80\n",
      "6/6 [==============================] - 0s 666us/step - loss: 0.2330 - acc: 1.0000\n",
      "Epoch 43/80\n",
      "6/6 [==============================] - 0s 835us/step - loss: 0.2324 - acc: 1.0000\n",
      "Epoch 44/80\n",
      "6/6 [==============================] - 0s 667us/step - loss: 0.2318 - acc: 1.0000\n",
      "Epoch 45/80\n",
      "6/6 [==============================] - 0s 667us/step - loss: 0.2313 - acc: 1.0000\n",
      "Epoch 46/80\n",
      "6/6 [==============================] - 0s 667us/step - loss: 0.2307 - acc: 1.0000\n",
      "Epoch 47/80\n",
      "6/6 [==============================] - 0s 732us/step - loss: 0.2301 - acc: 1.0000\n",
      "Epoch 48/80\n",
      "6/6 [==============================] - 0s 1ms/step - loss: 0.2296 - acc: 1.0000\n",
      "Epoch 49/80\n",
      "6/6 [==============================] - 0s 666us/step - loss: 0.2290 - acc: 1.0000\n",
      "Epoch 50/80\n",
      "6/6 [==============================] - 0s 666us/step - loss: 0.2284 - acc: 1.0000\n",
      "Epoch 51/80\n",
      "6/6 [==============================] - 0s 1ms/step - loss: 0.2279 - acc: 1.0000\n",
      "Epoch 52/80\n",
      "6/6 [==============================] - 0s 667us/step - loss: 0.2273 - acc: 1.0000\n",
      "Epoch 53/80\n",
      "6/6 [==============================] - 0s 666us/step - loss: 0.2267 - acc: 1.0000\n",
      "Epoch 54/80\n",
      "6/6 [==============================] - 0s 667us/step - loss: 0.2262 - acc: 1.0000\n",
      "Epoch 55/80\n",
      "6/6 [==============================] - 0s 666us/step - loss: 0.2256 - acc: 1.0000\n",
      "Epoch 56/80\n",
      "6/6 [==============================] - 0s 1ms/step - loss: 0.2251 - acc: 1.0000\n",
      "Epoch 57/80\n",
      "6/6 [==============================] - 0s 1ms/step - loss: 0.2245 - acc: 1.0000\n",
      "Epoch 58/80\n",
      "6/6 [==============================] - 0s 2ms/step - loss: 0.2239 - acc: 1.0000\n",
      "Epoch 59/80\n",
      "6/6 [==============================] - 0s 667us/step - loss: 0.2234 - acc: 1.0000\n",
      "Epoch 60/80\n",
      "6/6 [==============================] - 0s 666us/step - loss: 0.2228 - acc: 1.0000\n",
      "Epoch 61/80\n",
      "6/6 [==============================] - 0s 667us/step - loss: 0.2223 - acc: 1.0000\n",
      "Epoch 62/80\n",
      "6/6 [==============================] - 0s 667us/step - loss: 0.2217 - acc: 1.0000\n",
      "Epoch 63/80\n",
      "6/6 [==============================] - 0s 667us/step - loss: 0.2212 - acc: 1.0000\n",
      "Epoch 64/80\n",
      "6/6 [==============================] - 0s 2ms/step - loss: 0.2206 - acc: 1.0000\n",
      "Epoch 65/80\n",
      "6/6 [==============================] - 0s 666us/step - loss: 0.2201 - acc: 1.0000\n",
      "Epoch 66/80\n",
      "6/6 [==============================] - 0s 666us/step - loss: 0.2195 - acc: 1.0000\n",
      "Epoch 67/80\n",
      "6/6 [==============================] - 0s 662us/step - loss: 0.2190 - acc: 1.0000\n",
      "Epoch 68/80\n",
      "6/6 [==============================] - 0s 667us/step - loss: 0.2184 - acc: 1.0000\n",
      "Epoch 69/80\n",
      "6/6 [==============================] - 0s 666us/step - loss: 0.2179 - acc: 1.0000\n",
      "Epoch 70/80\n",
      "6/6 [==============================] - 0s 666us/step - loss: 0.2174 - acc: 1.0000\n",
      "Epoch 71/80\n",
      "6/6 [==============================] - 0s 666us/step - loss: 0.2168 - acc: 1.0000\n",
      "Epoch 72/80\n",
      "6/6 [==============================] - 0s 667us/step - loss: 0.2163 - acc: 1.0000\n",
      "Epoch 73/80\n",
      "6/6 [==============================] - 0s 666us/step - loss: 0.2157 - acc: 1.0000\n",
      "Epoch 74/80\n",
      "6/6 [==============================] - 0s 666us/step - loss: 0.2152 - acc: 1.0000\n",
      "Epoch 75/80\n",
      "6/6 [==============================] - 0s 666us/step - loss: 0.2146 - acc: 1.0000\n",
      "Epoch 76/80\n",
      "6/6 [==============================] - 0s 342us/step - loss: 0.2141 - acc: 1.0000\n",
      "Epoch 77/80\n",
      "6/6 [==============================] - 0s 1ms/step - loss: 0.2136 - acc: 1.0000\n",
      "Epoch 78/80\n",
      "6/6 [==============================] - 0s 0us/step - loss: 0.2130 - acc: 1.0000\n",
      "Epoch 79/80\n",
      "6/6 [==============================] - 0s 666us/step - loss: 0.2125 - acc: 1.0000\n",
      "Epoch 80/80\n",
      "6/6 [==============================] - 0s 921us/step - loss: 0.2120 - acc: 1.0000\n"
     ]
    },
    {
     "data": {
      "text/plain": [
       "<keras.callbacks.History at 0x207ef90cda0>"
      ]
     },
     "execution_count": 6,
     "metadata": {},
     "output_type": "execute_result"
    }
   ],
   "source": [
    "classifier.fit(X, Y, epochs = 80)"
   ]
  },
  {
   "cell_type": "code",
   "execution_count": 7,
   "metadata": {},
   "outputs": [],
   "source": [
    "x_test = np.array([[1, 0, 0]])"
   ]
  },
  {
   "cell_type": "code",
   "execution_count": 8,
   "metadata": {},
   "outputs": [],
   "source": [
    "prediction = classifier.predict(x_test)"
   ]
  },
  {
   "cell_type": "code",
   "execution_count": 9,
   "metadata": {},
   "outputs": [
    {
     "name": "stdout",
     "output_type": "stream",
     "text": [
      "Prediction of the neural network is:  [[0.80286914]]\n"
     ]
    }
   ],
   "source": [
    "print(\"Prediction of the neural network is: \", prediction)"
   ]
  }
 ],
 "metadata": {
  "kernelspec": {
   "display_name": "Python 3",
   "language": "python",
   "name": "python3"
  },
  "language_info": {
   "codemirror_mode": {
    "name": "ipython",
    "version": 3
   },
   "file_extension": ".py",
   "mimetype": "text/x-python",
   "name": "python",
   "nbconvert_exporter": "python",
   "pygments_lexer": "ipython3",
   "version": "3.6.8"
  },
  "latex_envs": {
   "LaTeX_envs_menu_present": true,
   "autoclose": false,
   "autocomplete": true,
   "bibliofile": "biblio.bib",
   "cite_by": "apalike",
   "current_citInitial": 1,
   "eqLabelWithNumbers": true,
   "eqNumInitial": 1,
   "hotkeys": {
    "equation": "Ctrl-E",
    "itemize": "Ctrl-I"
   },
   "labels_anchors": false,
   "latex_user_defs": false,
   "report_style_numbering": false,
   "user_envs_cfg": false
  }
 },
 "nbformat": 4,
 "nbformat_minor": 2
}
